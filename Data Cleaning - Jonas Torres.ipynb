{
 "cells": [
  {
   "cell_type": "code",
   "execution_count": 53,
   "id": "7edd5d39",
   "metadata": {},
   "outputs": [],
   "source": [
    "import pandas as pd"
   ]
  },
  {
   "cell_type": "markdown",
   "id": "ae83eb20",
   "metadata": {},
   "source": [
    "## Import data"
   ]
  },
  {
   "cell_type": "code",
   "execution_count": 54,
   "id": "6883ddc5",
   "metadata": {},
   "outputs": [],
   "source": [
    "dataset = \"https://data.buenosaires.gob.ar/dataset/delitos/resource/dbec0c29-1ada-40df-b13c-75cf3013ca42\""
   ]
  },
  {
   "cell_type": "code",
   "execution_count": 55,
   "id": "ca48c86d",
   "metadata": {},
   "outputs": [],
   "source": [
    "path = \"../data/delitos_2023.csv\""
   ]
  },
  {
   "cell_type": "code",
   "execution_count": 56,
   "id": "6d71389a",
   "metadata": {},
   "outputs": [],
   "source": [
    "df = pd.read_csv(path, sep=\";\")"
   ]
  },
  {
   "cell_type": "code",
   "execution_count": 57,
   "id": "46464309",
   "metadata": {},
   "outputs": [
    {
     "data": {
      "text/plain": [
       "(157461, 15)"
      ]
     },
     "execution_count": 57,
     "metadata": {},
     "output_type": "execute_result"
    }
   ],
   "source": [
    "df.shape"
   ]
  },
  {
   "cell_type": "markdown",
   "id": "624cadb7",
   "metadata": {},
   "source": [
    "## Neihborhoods with most theft and robbery claims"
   ]
  },
  {
   "cell_type": "code",
   "execution_count": 58,
   "id": "35d46259",
   "metadata": {},
   "outputs": [],
   "source": [
    "theft_robbery_bool = df[\"tipo\"].apply(lambda x: x in ('Hurto','Robo'))"
   ]
  },
  {
   "cell_type": "code",
   "execution_count": 59,
   "id": "253a7fd6",
   "metadata": {},
   "outputs": [],
   "source": [
    "df = df[theft_robbery_bool]"
   ]
  },
  {
   "cell_type": "code",
   "execution_count": 60,
   "id": "83913823",
   "metadata": {},
   "outputs": [
    {
     "data": {
      "text/plain": [
       "barrio\n",
       "PALERMO              11942\n",
       "BALVANERA             8203\n",
       "FLORES                6634\n",
       "RECOLETA              6392\n",
       "CABALLITO             5372\n",
       "SAN NICOLAS           5134\n",
       "ALMAGRO               5024\n",
       "VILLA LUGANO          4430\n",
       "BELGRANO              4227\n",
       "BARRACAS              4212\n",
       "VILLA CRESPO          3734\n",
       "RETIRO                3493\n",
       "CONSTITUCION          3385\n",
       "MONSERRAT             3129\n",
       "MATADEROS             3080\n",
       "PARQUE CHACABUCO      2796\n",
       "NUEVA POMPEYA         2721\n",
       "VILLA DEVOTO          2650\n",
       "VILLA SOLDATI         2518\n",
       "VILLA URQUIZA         2451\n",
       "LINIERS               2429\n",
       "SAN TELMO             2117\n",
       "PARQUE AVELLANEDA     2058\n",
       "NUNEZ                 1993\n",
       "PARQUE PATRICIOS      1945\n",
       "BOCA                  1928\n",
       "SAN CRISTOBAL         1867\n",
       "CHACARITA             1777\n",
       "SAAVEDRA              1708\n",
       "BOEDO                 1669\n",
       "COLEGIALES            1623\n",
       "VILLA DEL PARQUE      1617\n",
       "FLORESTA              1466\n",
       "VILLA PUEYRREDON      1143\n",
       "VILLA LURO            1120\n",
       "VILLA SANTA RITA      1057\n",
       "VELEZ SARSFIELD       1052\n",
       "VILLA GRAL. MITRE      995\n",
       "MONTE CASTRO           963\n",
       "PATERNAL               868\n",
       "VERSALLES              623\n",
       "VILLA ORTUZAR          601\n",
       "VILLA RIACHUELO        570\n",
       "PUERTO MADERO          566\n",
       "VILLA REAL             559\n",
       "COGHLAN                461\n",
       "PARQUE CHAS            460\n",
       "AGRONOMIA              440\n",
       "Sin geo                348\n",
       "Name: count, dtype: int64"
      ]
     },
     "execution_count": 60,
     "metadata": {},
     "output_type": "execute_result"
    }
   ],
   "source": [
    "df[\"barrio\"].value_counts()"
   ]
  },
  {
   "cell_type": "markdown",
   "id": "31e83973",
   "metadata": {},
   "source": [
    "## Data filtering"
   ]
  },
  {
   "cell_type": "markdown",
   "id": "3a80f096",
   "metadata": {},
   "source": [
    "I will filter the data to:\n",
    "* Velez Sarsfield neighborhood (this is my current neighborhood)\n",
    "* Theft and Robbery claims"
   ]
  },
  {
   "cell_type": "markdown",
   "id": "4b335eb8",
   "metadata": {},
   "source": [
    "I live in the \"Velez Sarsfield\" neighborhood."
   ]
  },
  {
   "cell_type": "code",
   "execution_count": 43,
   "id": "578a8eaf",
   "metadata": {},
   "outputs": [],
   "source": [
    "velez_bool = df[\"barrio\"] == \"VELEZ SARSFIELD\""
   ]
  },
  {
   "cell_type": "code",
   "execution_count": 44,
   "id": "eefa91ec",
   "metadata": {},
   "outputs": [],
   "source": [
    "df = df[velez_bool]"
   ]
  },
  {
   "cell_type": "code",
   "execution_count": 45,
   "id": "c5e485d3",
   "metadata": {},
   "outputs": [
    {
     "data": {
      "text/plain": [
       "(1052, 15)"
      ]
     },
     "execution_count": 45,
     "metadata": {},
     "output_type": "execute_result"
    }
   ],
   "source": [
    "df.shape"
   ]
  },
  {
   "cell_type": "markdown",
   "id": "543edd91",
   "metadata": {},
   "source": [
    "## Removing missing values"
   ]
  },
  {
   "cell_type": "markdown",
   "id": "c6278276",
   "metadata": {},
   "source": [
    "The neighborhood does not seem to have missing values."
   ]
  },
  {
   "cell_type": "code",
   "execution_count": 46,
   "id": "02e2ceb7",
   "metadata": {},
   "outputs": [
    {
     "data": {
      "text/plain": [
       "id-sum      0\n",
       "anio        0\n",
       "mes         0\n",
       "dia         0\n",
       "fecha       0\n",
       "franja      0\n",
       "tipo        0\n",
       "subtipo     0\n",
       "uso_arma    0\n",
       "uso_moto    0\n",
       "barrio      0\n",
       "comuna      0\n",
       "latitud     0\n",
       "longitud    0\n",
       "cantidad    0\n",
       "dtype: int64"
      ]
     },
     "execution_count": 46,
     "metadata": {},
     "output_type": "execute_result"
    }
   ],
   "source": [
    "df.isna().sum()"
   ]
  },
  {
   "cell_type": "markdown",
   "id": "890ba2e2",
   "metadata": {},
   "source": [
    "## Data Formatting"
   ]
  },
  {
   "cell_type": "code",
   "execution_count": 47,
   "id": "2c196399",
   "metadata": {
    "scrolled": true
   },
   "outputs": [
    {
     "name": "stderr",
     "output_type": "stream",
     "text": [
      "/var/folders/6r/6wrqh71d4gs49xf7bk5gdy340000gn/T/ipykernel_27759/2226262368.py:1: UserWarning: Parsing dates in %d/%m/%Y format when dayfirst=False (the default) was specified. Pass `dayfirst=True` or specify a format to silence this warning.\n",
      "  df[\"fecha\"] = pd.to_datetime(df[\"fecha\"])\n"
     ]
    }
   ],
   "source": [
    "df[\"fecha\"] = pd.to_datetime(df[\"fecha\"])"
   ]
  },
  {
   "cell_type": "code",
   "execution_count": 48,
   "id": "3d4bc02e",
   "metadata": {},
   "outputs": [
    {
     "data": {
      "text/plain": [
       "id-sum               int64\n",
       "anio                 int64\n",
       "mes                 object\n",
       "dia                 object\n",
       "fecha       datetime64[ns]\n",
       "franja               int64\n",
       "tipo                object\n",
       "subtipo             object\n",
       "uso_arma            object\n",
       "uso_moto            object\n",
       "barrio              object\n",
       "comuna              object\n",
       "latitud             object\n",
       "longitud            object\n",
       "cantidad             int64\n",
       "dtype: object"
      ]
     },
     "execution_count": 48,
     "metadata": {},
     "output_type": "execute_result"
    }
   ],
   "source": [
    "df.dtypes"
   ]
  },
  {
   "cell_type": "markdown",
   "id": "1999649d",
   "metadata": {},
   "source": [
    "## Import ready data"
   ]
  },
  {
   "cell_type": "markdown",
   "id": "cfd4d410",
   "metadata": {},
   "source": [
    "Exporting the dataset that can be uploaded the the mysql db."
   ]
  },
  {
   "cell_type": "code",
   "execution_count": 49,
   "id": "e9ceefdf",
   "metadata": {},
   "outputs": [],
   "source": [
    "df = df.rename(columns = {\"id-sum\":\"claim_id\"})"
   ]
  },
  {
   "cell_type": "code",
   "execution_count": 50,
   "id": "b044e8fe",
   "metadata": {},
   "outputs": [],
   "source": [
    "df.to_csv(\"rawdata.csv\", index=False)"
   ]
  },
  {
   "cell_type": "code",
   "execution_count": 51,
   "id": "e86b54d7",
   "metadata": {},
   "outputs": [
    {
     "data": {
      "text/plain": [
       "(1052, 15)"
      ]
     },
     "execution_count": 51,
     "metadata": {},
     "output_type": "execute_result"
    }
   ],
   "source": [
    "df.shape"
   ]
  },
  {
   "cell_type": "code",
   "execution_count": 52,
   "id": "c05485ee",
   "metadata": {},
   "outputs": [
    {
     "data": {
      "text/plain": [
       "subtipo\n",
       "Hurto total        527\n",
       "Robo total         451\n",
       "Hurto automotor     64\n",
       "Robo automotor      10\n",
       "Name: count, dtype: int64"
      ]
     },
     "execution_count": 52,
     "metadata": {},
     "output_type": "execute_result"
    }
   ],
   "source": [
    "df[\"subtipo\"].value_counts()"
   ]
  },
  {
   "cell_type": "code",
   "execution_count": null,
   "id": "d8115b4f",
   "metadata": {},
   "outputs": [],
   "source": []
  }
 ],
 "metadata": {
  "kernelspec": {
   "display_name": "Python 3 (ipykernel)",
   "language": "python",
   "name": "python3"
  },
  "language_info": {
   "codemirror_mode": {
    "name": "ipython",
    "version": 3
   },
   "file_extension": ".py",
   "mimetype": "text/x-python",
   "name": "python",
   "nbconvert_exporter": "python",
   "pygments_lexer": "ipython3",
   "version": "3.10.9"
  }
 },
 "nbformat": 4,
 "nbformat_minor": 5
}
